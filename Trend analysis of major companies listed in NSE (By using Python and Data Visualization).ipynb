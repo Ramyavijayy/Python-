{
 "cells": [
  {
   "cell_type": "code",
   "execution_count": null,
   "id": "8ed45297",
   "metadata": {},
   "outputs": [],
   "source": [
    "import pandas as pd\n",
    "import matplotlib.pyplot as plt"
   ]
  },
  {
   "cell_type": "code",
   "execution_count": null,
   "id": "2e309e66",
   "metadata": {},
   "outputs": [],
   "source": [
    "stock = pd.read_csv('D:\\Ramya\\Stocks1.csv')"
   ]
  },
  {
   "cell_type": "code",
   "execution_count": null,
   "id": "63ce3026",
   "metadata": {
    "scrolled": false
   },
   "outputs": [],
   "source": [
    "stock"
   ]
  },
  {
   "cell_type": "code",
   "execution_count": null,
   "id": "c833ca91",
   "metadata": {},
   "outputs": [],
   "source": [
    "stock.describe()"
   ]
  },
  {
   "cell_type": "code",
   "execution_count": null,
   "id": "b53da189",
   "metadata": {},
   "outputs": [],
   "source": [
    "stock.info()"
   ]
  },
  {
   "cell_type": "code",
   "execution_count": null,
   "id": "b4eb9987",
   "metadata": {},
   "outputs": [],
   "source": [
    "stock.isnull().sum()"
   ]
  },
  {
   "cell_type": "code",
   "execution_count": null,
   "id": "543c5452",
   "metadata": {},
   "outputs": [],
   "source": [
    "stock = stock.fillna(0)"
   ]
  },
  {
   "cell_type": "code",
   "execution_count": null,
   "id": "f5861223",
   "metadata": {},
   "outputs": [],
   "source": [
    "stock.isnull().sum()"
   ]
  },
  {
   "cell_type": "code",
   "execution_count": null,
   "id": "e485ea35",
   "metadata": {},
   "outputs": [],
   "source": [
    "stock.dtypes"
   ]
  },
  {
   "cell_type": "code",
   "execution_count": null,
   "id": "33b997a0",
   "metadata": {},
   "outputs": [],
   "source": []
  },
  {
   "cell_type": "code",
   "execution_count": null,
   "id": "7199089c",
   "metadata": {},
   "outputs": [],
   "source": [
    "stock['year'] = stock['DATE'].str.strip().str[-4:]"
   ]
  },
  {
   "cell_type": "code",
   "execution_count": null,
   "id": "e8b4f4c9",
   "metadata": {},
   "outputs": [],
   "source": [
    "stock"
   ]
  },
  {
   "cell_type": "code",
   "execution_count": null,
   "id": "091cdea0",
   "metadata": {},
   "outputs": [],
   "source": [
    "stock2 = stock.groupby(['year'],as_index = True).mean()"
   ]
  },
  {
   "cell_type": "code",
   "execution_count": null,
   "id": "cc0df336",
   "metadata": {},
   "outputs": [],
   "source": [
    "stock2"
   ]
  },
  {
   "cell_type": "code",
   "execution_count": null,
   "id": "653a87f9",
   "metadata": {},
   "outputs": [],
   "source": [
    "avg1 = pd.DataFrame(stock2.mean(axis =1 ))\n",
    "avg1"
   ]
  },
  {
   "cell_type": "code",
   "execution_count": null,
   "id": "3567179a",
   "metadata": {},
   "outputs": [],
   "source": [
    "nifty = pd.read_csv('D:/Ramya/nifty.csv')"
   ]
  },
  {
   "cell_type": "code",
   "execution_count": null,
   "id": "715ea7f8",
   "metadata": {},
   "outputs": [],
   "source": [
    "nifty"
   ]
  },
  {
   "cell_type": "code",
   "execution_count": null,
   "id": "d880785a",
   "metadata": {},
   "outputs": [],
   "source": [
    "nifty['year'] = nifty['Date'].str.strip().str[-4:]"
   ]
  },
  {
   "cell_type": "code",
   "execution_count": null,
   "id": "86ffb36c",
   "metadata": {},
   "outputs": [],
   "source": [
    "nifty"
   ]
  },
  {
   "cell_type": "code",
   "execution_count": null,
   "id": "266f50e8",
   "metadata": {},
   "outputs": [],
   "source": [
    "nifty2 = nifty.groupby(['year'],as_index = False).mean()"
   ]
  },
  {
   "cell_type": "code",
   "execution_count": null,
   "id": "02066995",
   "metadata": {},
   "outputs": [],
   "source": [
    "nifty2"
   ]
  },
  {
   "cell_type": "code",
   "execution_count": null,
   "id": "e292127b",
   "metadata": {},
   "outputs": [],
   "source": [
    "s =pd.merge(avg1,nifty2,on = 'year')\n",
    "s"
   ]
  },
  {
   "cell_type": "code",
   "execution_count": null,
   "id": "6c06b11c",
   "metadata": {},
   "outputs": [],
   "source": [
    "s1 = s.rename(columns={0:'Average of 10 companies'})\n",
    "s1"
   ]
  },
  {
   "cell_type": "code",
   "execution_count": null,
   "id": "f9f5c8b6",
   "metadata": {},
   "outputs": [],
   "source": [
    "s2 = s1.set_index('year')\n",
    "s2"
   ]
  },
  {
   "cell_type": "code",
   "execution_count": null,
   "id": "b95cac33",
   "metadata": {},
   "outputs": [],
   "source": [
    "s2.plot.scatter(x = 'Average of 10 companies',y = 'NIFTY Closing Price',color = 'green')"
   ]
  },
  {
   "cell_type": "code",
   "execution_count": null,
   "id": "36a4bfac",
   "metadata": {},
   "outputs": [],
   "source": [
    "s2.corr(method = 'pearson')"
   ]
  },
  {
   "cell_type": "code",
   "execution_count": null,
   "id": "0dadcc48",
   "metadata": {},
   "outputs": [],
   "source": [
    "fig, ax = plt.subplots()\n",
    "ax.plot( \"year\", \"INFY\",data = stock2)\n",
    "ax.set_xlabel('YEAR')\n",
    "ax.set_ylabel('AMOUNT')\n",
    "ax.set_title('INFY')"
   ]
  },
  {
   "cell_type": "code",
   "execution_count": null,
   "id": "3176f5d8",
   "metadata": {},
   "outputs": [],
   "source": [
    "fig, ax = plt.subplots()\n",
    "ax.plot( \"year\", \"TCS\",data = stock2)\n",
    "ax.set_xlabel('YEAR')\n",
    "ax.set_ylabel('AMOUNT')\n",
    "ax.set_title('TCS')"
   ]
  },
  {
   "cell_type": "code",
   "execution_count": null,
   "id": "af63df31",
   "metadata": {},
   "outputs": [],
   "source": [
    "fig, ax = plt.subplots()\n",
    "ax.plot( \"year\", \"RELIANCE\",data = stock2)\n",
    "ax.set_xlabel('YEAR')\n",
    "ax.set_ylabel('AMOUNT')\n",
    "ax.set_title('RELIANCE')"
   ]
  },
  {
   "cell_type": "code",
   "execution_count": null,
   "id": "2ae74d12",
   "metadata": {},
   "outputs": [],
   "source": [
    "fig, ax = plt.subplots()\n",
    "ax.plot( \"year\", \"BAJAJFINANCE\",data = stock2)\n",
    "ax.set_xlabel('YEAR')\n",
    "ax.set_ylabel('AMOUNT')\n",
    "ax.set_title('BAJAJFINANCE')"
   ]
  },
  {
   "cell_type": "code",
   "execution_count": null,
   "id": "9385fda7",
   "metadata": {},
   "outputs": [],
   "source": [
    "fig, ax = plt.subplots()\n",
    "ax.plot( \"year\", \"KOTAKBANK\",data = stock2)\n",
    "ax.set_xlabel('YEAR')\n",
    "ax.set_ylabel('AMOUNT')\n",
    "ax.set_title('KOTAKBANK')"
   ]
  },
  {
   "cell_type": "code",
   "execution_count": null,
   "id": "da3ed805",
   "metadata": {},
   "outputs": [],
   "source": [
    "fig, ax = plt.subplots()\n",
    "ax.plot( \"year\", \"HDFCBANK\",data = stock2)\n",
    "ax.set_xlabel('YEAR')\n",
    "ax.set_ylabel('AMOUNT')\n",
    "ax.set_title('HDFCBANK')"
   ]
  },
  {
   "cell_type": "code",
   "execution_count": null,
   "id": "93f6c70a",
   "metadata": {},
   "outputs": [],
   "source": [
    "fig, ax = plt.subplots()\n",
    "ax.plot( \"year\", \"HDFCCORP\",data = stock2)\n",
    "ax.set_xlabel('YEAR')\n",
    "ax.set_ylabel('AMOUNT')\n",
    "ax.set_title('HDFCCORP')"
   ]
  },
  {
   "cell_type": "code",
   "execution_count": null,
   "id": "086d0041",
   "metadata": {},
   "outputs": [],
   "source": [
    "fig, ax = plt.subplots()\n",
    "ax.plot( \"year\", \"HINDUNILVR\",data = stock2)\n",
    "ax.set_xlabel('YEAR')\n",
    "ax.set_ylabel('AMOUNT')\n",
    "ax.set_title('HINDUNILVR')"
   ]
  },
  {
   "cell_type": "code",
   "execution_count": null,
   "id": "8a002188",
   "metadata": {},
   "outputs": [],
   "source": [
    "fig, ax = plt.subplots()\n",
    "ax.plot( \"year\", \"ICICIBANK\",data = stock2)\n",
    "ax.set_xlabel('YEAR')\n",
    "ax.set_ylabel('AMOUNT')\n",
    "ax.set_title('ICICIBANK')"
   ]
  },
  {
   "cell_type": "code",
   "execution_count": null,
   "id": "5da7a96e",
   "metadata": {},
   "outputs": [],
   "source": [
    "fig, ax = plt.subplots()\n",
    "ax.plot( \"year\", \"SBIN\",data = stock2)\n",
    "ax.set_xlabel('YEAR')\n",
    "ax.set_ylabel('AMOUNT')\n",
    "ax.set_title('SBIN')"
   ]
  },
  {
   "cell_type": "code",
   "execution_count": null,
   "id": "02f7efe7",
   "metadata": {},
   "outputs": [],
   "source": []
  },
  {
   "cell_type": "code",
   "execution_count": null,
   "id": "c3eade07",
   "metadata": {},
   "outputs": [],
   "source": []
  },
  {
   "cell_type": "code",
   "execution_count": null,
   "id": "4f922caf",
   "metadata": {},
   "outputs": [],
   "source": []
  },
  {
   "cell_type": "code",
   "execution_count": null,
   "id": "858edf4c",
   "metadata": {},
   "outputs": [],
   "source": [
    "fig, ax = plt.subplots()\n",
    "ax.plot( \"year\", \"INFY\",data = stock2)\n",
    "ax.plot('year','TCS',data = stock2)\n",
    "ax.plot('year','RELIANCE',data = stock2)\n",
    "ax.plot('year','KOTAKBANK',data = stock2)\n",
    "ax.plot('year','HINDUNILVR',data = stock2)\n",
    "ax.plot('year','HDFCBANK',data = stock2)\n",
    "ax.plot('year','HDFCCORP',data = stock2)\n",
    "ax.plot('year','SBIN',data = stock2)\n",
    "ax.plot('year','BAJAJFINANCE',data = stock2)\n",
    "ax.plot('year','ICICIBANK',data = stock2)\n",
    "ax.set_xlabel('YEAR')\n",
    "ax.set_ylabel('AMOUNT')\n",
    "ax.legend()\n",
    "fig.set_size_inches(20.5,10)"
   ]
  },
  {
   "cell_type": "code",
   "execution_count": null,
   "id": "12684034",
   "metadata": {},
   "outputs": [],
   "source": []
  },
  {
   "cell_type": "code",
   "execution_count": null,
   "id": "50f8f53d",
   "metadata": {},
   "outputs": [],
   "source": []
  },
  {
   "cell_type": "code",
   "execution_count": null,
   "id": "8cb48ceb",
   "metadata": {},
   "outputs": [],
   "source": []
  },
  {
   "cell_type": "code",
   "execution_count": null,
   "id": "309d00d7",
   "metadata": {},
   "outputs": [],
   "source": []
  },
  {
   "cell_type": "code",
   "execution_count": null,
   "id": "a370963b",
   "metadata": {},
   "outputs": [],
   "source": []
  },
  {
   "cell_type": "code",
   "execution_count": null,
   "id": "fdacb643",
   "metadata": {},
   "outputs": [],
   "source": []
  },
  {
   "cell_type": "code",
   "execution_count": null,
   "id": "2eca19ed",
   "metadata": {},
   "outputs": [],
   "source": []
  },
  {
   "cell_type": "code",
   "execution_count": null,
   "id": "2f54d750",
   "metadata": {},
   "outputs": [],
   "source": [
    "\n"
   ]
  },
  {
   "cell_type": "code",
   "execution_count": null,
   "id": "83532b61",
   "metadata": {},
   "outputs": [],
   "source": []
  },
  {
   "cell_type": "code",
   "execution_count": null,
   "id": "fb721c9c",
   "metadata": {},
   "outputs": [],
   "source": []
  },
  {
   "cell_type": "code",
   "execution_count": null,
   "id": "9eccd826",
   "metadata": {},
   "outputs": [],
   "source": []
  }
 ],
 "metadata": {
  "kernelspec": {
   "display_name": "Python 3",
   "language": "python",
   "name": "python3"
  },
  "language_info": {
   "codemirror_mode": {
    "name": "ipython",
    "version": 3
   },
   "file_extension": ".py",
   "mimetype": "text/x-python",
   "name": "python",
   "nbconvert_exporter": "python",
   "pygments_lexer": "ipython3",
   "version": "3.8.8"
  }
 },
 "nbformat": 4,
 "nbformat_minor": 5
}
